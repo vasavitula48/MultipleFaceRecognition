{
  "nbformat": 4,
  "nbformat_minor": 0,
  "metadata": {
    "colab": {
      "provenance": [],
      "gpuType": "T4"
    },
    "kernelspec": {
      "name": "python3",
      "display_name": "Python 3"
    },
    "language_info": {
      "name": "python"
    },
    "accelerator": "GPU"
  },
  "cells": [
    {
      "cell_type": "code",
      "source": [
        "pip install face-recognition\n"
      ],
      "metadata": {
        "colab": {
          "base_uri": "https://localhost:8080/"
        },
        "id": "7BQ20Xw-X-zD",
        "outputId": "0122c216-a430-4c06-e1a2-cf265fe9d535"
      },
      "execution_count": null,
      "outputs": [
        {
          "output_type": "stream",
          "name": "stdout",
          "text": [
            "Collecting face-recognition\n",
            "  Downloading face_recognition-1.3.0-py2.py3-none-any.whl (15 kB)\n",
            "Collecting face-recognition-models>=0.3.0 (from face-recognition)\n",
            "  Downloading face_recognition_models-0.3.0.tar.gz (100.1 MB)\n",
            "\u001b[2K     \u001b[90m━━━━━━━━━━━━━━━━━━━━━━━━━━━━━━━━━━━━━━━\u001b[0m \u001b[32m100.1/100.1 MB\u001b[0m \u001b[31m9.3 MB/s\u001b[0m eta \u001b[36m0:00:00\u001b[0m\n",
            "\u001b[?25h  Preparing metadata (setup.py) ... \u001b[?25l\u001b[?25hdone\n",
            "Requirement already satisfied: Click>=6.0 in /usr/local/lib/python3.10/dist-packages (from face-recognition) (8.1.3)\n",
            "Requirement already satisfied: dlib>=19.7 in /usr/local/lib/python3.10/dist-packages (from face-recognition) (19.24.2)\n",
            "Requirement already satisfied: numpy in /usr/local/lib/python3.10/dist-packages (from face-recognition) (1.22.4)\n",
            "Requirement already satisfied: Pillow in /usr/local/lib/python3.10/dist-packages (from face-recognition) (8.4.0)\n",
            "Building wheels for collected packages: face-recognition-models\n",
            "  Building wheel for face-recognition-models (setup.py) ... \u001b[?25l\u001b[?25hdone\n",
            "  Created wheel for face-recognition-models: filename=face_recognition_models-0.3.0-py2.py3-none-any.whl size=100566173 sha256=946ceb2db3faa4ceffb4a0ce2c6a4719231e928e748550b8dd797b340fd6d82b\n",
            "  Stored in directory: /root/.cache/pip/wheels/7a/eb/cf/e9eced74122b679557f597bb7c8e4c739cfcac526db1fd523d\n",
            "Successfully built face-recognition-models\n",
            "Installing collected packages: face-recognition-models, face-recognition\n",
            "Successfully installed face-recognition-1.3.0 face-recognition-models-0.3.0\n"
          ]
        }
      ]
    },
    {
      "cell_type": "code",
      "source": [
        "import cv2\n",
        "import numpy as np\n",
        "from google.colab.patches import cv2_imshow\n",
        "\n",
        "# Load some pre-trained data on face frontal from opencv (haar cascade algorithm)\n",
        "trained_face_data = cv2.CascadeClassifier(cv2.data.haarcascades + 'haarcascade_frontalface_default.xml')\n",
        "\n",
        "# Choose an image to detect faces in\n",
        "img = cv2.imread('/content/drive/MyDrive/Group.jpeg')\n",
        "\n",
        "# Must convert to greyscale\n",
        "grayscaled_img = cv2.cvtColor(img, cv2.COLOR_BGR2GRAY)\n",
        "\n",
        "# Detect Faces\n",
        "face_coordinates = trained_face_data.detectMultiScale(grayscaled_img)\n",
        "\n",
        "img_crop = []\n",
        "\n",
        "# Draw rectangles around the faces\n",
        "for (x, y, w, h) in face_coordinates:\n",
        "    cv2.rectangle(img, (x, y), (x + w, y + h), (0, 255, 0), 2)\n",
        "    img_crop.append(img[y:y + h, x:x + w])\n",
        "\n",
        "for counter, cropped in enumerate(img_crop):\n",
        "    cv2_imshow(cropped)\n",
        "    cv2.imwrite(\"pose_result_{}.png\".format(counter), cropped)\n",
        "    cv2.waitKey(0)"
      ],
      "metadata": {
        "colab": {
          "base_uri": "https://localhost:8080/",
          "height": 783
        },
        "id": "_bSr_hhOrseC",
        "outputId": "ea336b5e-ec07-4bc0-9a12-d8005f9e53e0"
      },
      "execution_count": null,
      "outputs": [
        {
          "output_type": "display_data",
          "data": {
            "text/plain": [
              "<PIL.Image.Image image mode=RGB size=30x30 at 0x7F5ED43DB6D0>"
            ],
            "image/png": "[encoded data removed]"
          },
          "metadata": {}
        },
        {
          "output_type": "display_data",
          "data": {
            "text/plain": [
              "<PIL.Image.Image image mode=RGB size=29x29 at 0x7F5ED43DB550>"
            ],
            "image/png": "[encoded data removed]"
          },
          "metadata": {}
        },
        {
          "output_type": "display_data",
          "data": {
            "text/plain": [
              "<PIL.Image.Image image mode=RGB size=31x31 at 0x7F5ED43DACB0>"
            ],
            "image/png": "[encoded data removed]"
          },
          "metadata": {}
        },
        {
          "output_type": "display_data",
          "data": {
            "text/plain": [
              "<PIL.Image.Image image mode=RGB size=29x29 at 0x7F5ED43DACB0>"
            ],
            "image/png": "[encoded data removed]"
          },
          "metadata": {}
        },
        {
          "output_type": "display_data",
          "data": {
            "text/plain": [
              "<PIL.Image.Image image mode=RGB size=30x30 at 0x7F5ED43DACB0>"
            ],
            "image/png": "[encoded data removed]"
          },
          "metadata": {}
        },
        {
          "output_type": "display_data",
          "data": {
            "text/plain": [
              "<PIL.Image.Image image mode=RGB size=35x35 at 0x7F5ED43DACB0>"
            ],
            "image/png": "[encoded data removed]"
          },
          "metadata": {}
        },
        {
          "output_type": "display_data",
          "data": {
            "text/plain": [
              "<PIL.Image.Image image mode=RGB size=32x32 at 0x7F5ED43DACB0>"
            ],
            "image/png": "[encoded data removed]"
          },
          "metadata": {}
        },
        {
          "output_type": "display_data",
          "data": {
            "text/plain": [
              "<PIL.Image.Image image mode=RGB size=35x35 at 0x7F5ED43DACB0>"
            ],
            "image/png": "[encoded data removed]"
          },
          "metadata": {}
        },
        {
          "output_type": "display_data",
          "data": {
            "text/plain": [
              "<PIL.Image.Image image mode=RGB size=27x27 at 0x7F5ED43DACB0>"
            ],
            "image/png": "[encoded data removed]"
          },
          "metadata": {}
        },
        {
          "output_type": "display_data",
          "data": {
            "text/plain": [
              "<PIL.Image.Image image mode=RGB size=32x32 at 0x7F5ED43DACB0>"
            ],
            "image/png": "[encoded data removed]"
          },
          "metadata": {}
        },
        {
          "output_type": "display_data",
          "data": {
            "text/plain": [
              "<PIL.Image.Image image mode=RGB size=34x34 at 0x7F5ED43DACB0>"
            ],
            "image/png": "[encoded data removed]"
          },
          "metadata": {}
        },
        {
          "output_type": "display_data",
          "data": {
            "text/plain": [
              "<PIL.Image.Image image mode=RGB size=33x33 at 0x7F5ED43DACB0>"
            ],
            "image/png": "[encoded data removed]"
          },
          "metadata": {}
        },
        {
          "output_type": "display_data",
          "data": {
            "text/plain": [
              "<PIL.Image.Image image mode=RGB size=33x33 at 0x7F5ED43DACB0>"
            ],
            "image/png": "[encoded data removed]"
          },
          "metadata": {}
        },
        {
          "output_type": "display_data",
          "data": {
            "text/plain": [
              "<PIL.Image.Image image mode=RGB size=33x33 at 0x7F5ED43DACB0>"
            ],
            "image/png": "[encoded data removed]"
          },
          "metadata": {}
        },
        {
          "output_type": "display_data",
          "data": {
            "text/plain": [
              "<PIL.Image.Image image mode=RGB size=29x29 at 0x7F5ED43DACB0>"
            ],
            "image/png": "[encoded data removed]"
          },
          "metadata": {}
        },
        {
          "output_type": "display_data",
          "data": {
            "text/plain": [
              "<PIL.Image.Image image mode=RGB size=30x30 at 0x7F5ED43DACB0>"
            ],
            "image/png": "[encoded data removed]"
          },
          "metadata": {}
        },
        {
          "output_type": "display_data",
          "data": {
            "text/plain": [
              "<PIL.Image.Image image mode=RGB size=30x30 at 0x7F5ED43DACB0>"
            ],
            "image/png": "[encoded data removed]"
          },
          "metadata": {}
        },
        {
          "output_type": "display_data",
          "data": {
            "text/plain": [
              "<PIL.Image.Image image mode=RGB size=30x30 at 0x7F5ED43DACB0>"
            ],
            "image/png": "[encoded data removed]"
          },
          "metadata": {}
        },
        {
          "output_type": "display_data",
          "data": {
            "text/plain": [
              "<PIL.Image.Image image mode=RGB size=34x34 at 0x7F5ED43DACB0>"
            ],
            "image/png": "[encoded data removed]"
          },
          "metadata": {}
        },
        {
          "output_type": "display_data",
          "data": {
            "text/plain": [
              "<PIL.Image.Image image mode=RGB size=33x33 at 0x7F5ED43DACB0>"
            ],
            "image/png": "[encoded data removed]"
          },
          "metadata": {}
        },
        {
          "output_type": "display_data",
          "data": {
            "text/plain": [
              "<PIL.Image.Image image mode=RGB size=33x33 at 0x7F5ED43DACB0>"
            ],
            "image/png": "[encoded data removed]"
          },
          "metadata": {}
        },
        {
          "output_type": "display_data",
          "data": {
            "text/plain": [
              "<PIL.Image.Image image mode=RGB size=30x30 at 0x7F5ED43DACB0>"
            ],
            "image/png": "[encoded data removed]"
          },
          "metadata": {}
        },
        {
          "output_type": "display_data",
          "data": {
            "text/plain": [
              "<PIL.Image.Image image mode=RGB size=37x37 at 0x7F5ED43DACB0>"
            ],
            "image/png": "[encoded data removed]"
          },
          "metadata": {}
        },
        {
          "output_type": "display_data",
          "data": {
            "text/plain": [
              "<PIL.Image.Image image mode=RGB size=37x37 at 0x7F5ED43DACB0>"
            ],
            "image/png": "[encoded data removed]"
          },
          "metadata": {}
        }
      ]
    },
    {
      "cell_type": "code",
      "source": [
        "import numpy as np\n",
        "import cv2\n",
        "import face_recognition\n",
        "import os\n",
        "from datetime import datetime\n",
        "\n",
        "Path='/content/drive/MyDrive/ImagesAttendance'\n",
        "images=[]\n",
        "classNames=[]\n",
        "myList=os.listdir(Path)\n",
        "print(myList)\n",
        "for cl in myList:\n",
        "  curImg=cv2.imread(f'{Path}/{cl}')\n",
        "  images.append(curImg)\n",
        "  classNames.append(os.path.splitext(cl)[0]) #remove extension\n",
        "print(classNames)\n",
        "\n",
        "#number of images(Encoding images)\n",
        "def findEncodings(images):\n",
        "  encodeList=[]\n",
        "  for img in images:\n",
        "    img=cv2.cvtColor(img,cv2.COLOR_BGR2RGB)\n",
        "    encode=face_recognition.face_encodings(img)[0]\n",
        "    encodeList.append(encode)\n",
        "  return encodeList\n",
        "\n",
        "def markAttendance(name):\n",
        "  with open('Attendance.csv','r+') as f:\n",
        "   myDataList = f.readlines()\n",
        "   nameList = []\n",
        "   for line in myDataList:\n",
        "     entry = line.split(',')\n",
        "     nameList.append(entry[0])\n",
        "   if name not in nameList:\n",
        "       now = datetime.now()\n",
        "       dtString = now.strftime('%H:%M:%S')\n",
        "       f.writelines(f'\\n{name},{dtString}')\n",
        "\n",
        "\n",
        "\n",
        "\n",
        "encodeListKnown=findEncodings(images)\n",
        "print('Encoding completed')\n",
        "\n",
        "cap=cv2.VideoCapture(0)\n",
        "while True:\n",
        "  success, img=cap.read()\n",
        "  imgS=cv2.resize(img,(0,0),None,fx=0.25,fy=0.25)\n",
        "  # As it is real-time,reducing size of image gives effecient results\n",
        "  imgS=cv2.cvtColor(imgS,cv2.COLOR_BGR2RGB)\n",
        "'''img=cv2.imread('/content/drive/MyDrive/ImagesAttendance')\n",
        " print(img)\n",
        " try:\n",
        "    imgS= cv2.resize(img, (1400, 1000), interpolation=cv2.INTER_AREA)\n",
        "    print(imgS.shape)\n",
        " except:\n",
        "    break\n",
        "height, width , layers = imgS.shape\n",
        "size=(width,height)\n",
        "print(size)'''\n",
        "\n",
        "facesCurFrame=face_recognition.face_locations(imgS)\n",
        "encodesCurFrame=face_recognition.face_encodings(imgS,facesCurFrame)\n",
        "\n",
        "for encodeFace,faceLoc in zip(encodesCurFrame,facesCurFrame):\n",
        "    matches=face_recognition.compare_faces(encodeListKnown,encodeFace)\n",
        "    faceDis=face_recognition.face_distance(encodeListKnown,encodeFace)\n",
        "    print(faceDis)\n",
        "\n",
        "    matchIndex=np.argmin(faceDis)\n",
        "    if matches[matchIndex]:\n",
        "      name=classNames[matchIndex].upper()\n",
        "      print(name)\n",
        "      y1,x2,y2,x1=faceLoc\n",
        "      y1,x2,y2,x1=y1*4,x2*4,y2*4,x1*4\n",
        "      cv2.rectangle(img,(x1,y1),(x2,y2),(0,255,0),2)\n",
        "      cv2.rectangle(img,(x1,y2-35),(x2,y2),(0,255,0),cv2.FILLED)\n",
        "      cv2.putText(img,name,(x1+6,y2-6),cv2.FONT_HERSEY_COMPLEX,1,(255,255,255),2)\n",
        "      markAttendance(name)\n",
        "\n",
        "from google.colab.patches import cv2_imshow\n",
        "cv2_imshow(img)\n",
        "cv2.waitKey(1)\n",
        "\n"
      ],
      "metadata": {
        "id": "SXZbDozDeixe"
      },
      "execution_count": null,
      "outputs": []
    }
  ]
}